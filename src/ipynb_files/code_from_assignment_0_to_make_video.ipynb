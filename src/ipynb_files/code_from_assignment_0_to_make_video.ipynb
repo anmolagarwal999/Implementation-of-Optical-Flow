{
 "cells": [
  {
   "cell_type": "code",
   "execution_count": 128,
   "id": "be8aedd0",
   "metadata": {},
   "outputs": [],
   "source": [
    "import cv2\n",
    "import os\n",
    "import sys\n",
    "from functools import cmp_to_key"
   ]
  },
  {
   "cell_type": "code",
   "execution_count": 129,
   "id": "68d75244",
   "metadata": {},
   "outputs": [],
   "source": [
    "picture_type='RubberWhale'"
   ]
  },
  {
   "cell_type": "code",
   "execution_count": 130,
   "id": "715d8da5",
   "metadata": {},
   "outputs": [],
   "source": [
    "FOLDER_WITH_IMAGES=f\"./saved_data/{picture_type}/\""
   ]
  },
  {
   "cell_type": "markdown",
   "id": "338cca78",
   "metadata": {},
   "source": [
    "### Assume that images in folder are prefixed with their frame numbers"
   ]
  },
  {
   "cell_type": "code",
   "execution_count": 131,
   "id": "abbb586d",
   "metadata": {},
   "outputs": [],
   "source": [
    "image_names=os.listdir(FOLDER_WITH_IMAGES)\n",
    "image_names.sort()"
   ]
  },
  {
   "cell_type": "code",
   "execution_count": 132,
   "id": "7752dbcd",
   "metadata": {},
   "outputs": [
    {
     "data": {
      "text/plain": [
       "14"
      ]
     },
     "execution_count": 132,
     "metadata": {},
     "output_type": "execute_result"
    }
   ],
   "source": [
    "len(image_names)"
   ]
  },
  {
   "cell_type": "code",
   "execution_count": 133,
   "id": "4ec0a7db",
   "metadata": {},
   "outputs": [],
   "source": [
    "def comparator(item1, item2):\n",
    "    if len(item1) < len(item2):\n",
    "        return -1\n",
    "    elif len(item1) > len(item2):\n",
    "        return 1\n",
    "    else:\n",
    "        return -1 if (item1<item2) else 1"
   ]
  },
  {
   "cell_type": "code",
   "execution_count": 134,
   "id": "0038a175",
   "metadata": {},
   "outputs": [],
   "source": [
    "image_names.sort(key=cmp_to_key(comparator))"
   ]
  },
  {
   "cell_type": "code",
   "execution_count": 135,
   "id": "8c44c6bc",
   "metadata": {},
   "outputs": [],
   "source": [
    "image_names=image_names[:7]"
   ]
  },
  {
   "cell_type": "code",
   "execution_count": 136,
   "id": "660a75e9",
   "metadata": {},
   "outputs": [],
   "source": [
    "assert(len(image_names)>0)"
   ]
  },
  {
   "cell_type": "code",
   "execution_count": 137,
   "id": "90cee4df",
   "metadata": {},
   "outputs": [],
   "source": [
    "curr_frame=cv2.imread(os.path.join(FOLDER_WITH_IMAGES, image_names[1]))"
   ]
  },
  {
   "cell_type": "markdown",
   "id": "bca60eb8",
   "metadata": {},
   "source": [
    "# Experiment with different imread() options"
   ]
  },
  {
   "cell_type": "markdown",
   "id": "adbb2307",
   "metadata": {},
   "source": [
    "curr_frame=cv2.imread(os.path.join(FOLDER_WITH_IMAGES, image_names[1943]),8)\n",
    "curr_frame=cv2.resize(curr_frame,(0,0),fx=0.5, fy=0.5)\n",
    "cv2.imshow('sample_frame',curr_frame,)\n",
    "cv2.waitKey(0)\n",
    "cv2.destroyAllWindows()"
   ]
  },
  {
   "cell_type": "markdown",
   "id": "063fb6d9",
   "metadata": {},
   "source": [
    "cv2.destroyAllWindows()"
   ]
  },
  {
   "cell_type": "code",
   "execution_count": 138,
   "id": "34a92e23",
   "metadata": {},
   "outputs": [],
   "source": [
    "height, width, channels = curr_frame.shape"
   ]
  },
  {
   "cell_type": "markdown",
   "id": "bd4d5951",
   "metadata": {},
   "source": [
    "### Parameters\n",
    "* filename\tName of the output video file.\n",
    "* fourcc\t4-character code of codec used to compress the frames. For example, VideoWriter::fourcc('P','I','M','1') is a MPEG-1 codec, VideoWriter::fourcc('M','J','P','G') is a motion-jpeg codec etc. List of codes can be obtained at Video Codecs by FOURCC page. FFMPEG backend with MP4 container natively uses other values as fourcc code: see ObjectType, so you may receive a warning message from OpenCV about fourcc code conversion.\n",
    "* fps\tFramerate of the created video stream.\n",
    "* frameSize\tSize of the video frames.\n",
    "* isColor\tIf it is not zero, the encoder will expect and encode color frames, otherwise it will work with grayscale frames."
   ]
  },
  {
   "cell_type": "code",
   "execution_count": 139,
   "id": "6c8b217d",
   "metadata": {},
   "outputs": [],
   "source": [
    "WANTED_FPS=4"
   ]
  },
  {
   "cell_type": "code",
   "execution_count": 140,
   "id": "a4f567f8",
   "metadata": {},
   "outputs": [],
   "source": [
    "# Define the codec and create VideoWriter object\n",
    "fourcc=cv2.VideoWriter_fourcc(*'DIVX')\n",
    "video_write_obj = cv2.VideoWriter(f\"./videos/{picture_type}.avi\", fourcc, WANTED_FPS, ((int(width*1)),int(height*1)))"
   ]
  },
  {
   "cell_type": "markdown",
   "id": "8d4698ab",
   "metadata": {},
   "source": [
    "# Define the codec and create VideoWriter object\n",
    "fourcc = cv2.VideoWriter_fourcc(*'DIVX')\n",
    "fourcc = cv2.VideoWriter_fourcc(*'XVID')\n",
    "fourcc=cv2.VideoWriter_fourcc(*'DIVX')\n",
    "video_write_obj = cv2.VideoWriter(\"./himym_made.avi\", fourcc, 24, (width, height))"
   ]
  },
  {
   "cell_type": "code",
   "execution_count": 141,
   "id": "885f12b8",
   "metadata": {},
   "outputs": [
    {
     "name": "stdout",
     "output_type": "stream",
     "text": [
      "0\n",
      "./saved_data/RubberWhale/frame_7_window_size_11_arrows.jpg\n",
      "1\n",
      "./saved_data/RubberWhale/frame_8_window_size_11_arrows.jpg\n",
      "2\n",
      "./saved_data/RubberWhale/frame_9_window_size_11_arrows.jpg\n",
      "3\n",
      "./saved_data/RubberWhale/frame_10_window_size_11_arrows.jpg\n",
      "4\n",
      "./saved_data/RubberWhale/frame_11_window_size_11_arrows.jpg\n",
      "5\n",
      "./saved_data/RubberWhale/frame_12_window_size_11_arrows.jpg\n",
      "6\n",
      "./saved_data/RubberWhale/frame_13_window_size_11_arrows.jpg\n"
     ]
    }
   ],
   "source": [
    "for idx, local_curr_image_path in enumerate(image_names[:200]):\n",
    "    print(idx)\n",
    "    curr_image_path = os.path.join(FOLDER_WITH_IMAGES,local_curr_image_path)\n",
    "    curr_frame = cv2.imread(curr_image_path)\n",
    "    print(curr_image_path)\n",
    "    video_write_obj.write(curr_frame)\n",
    "    \n",
    "    #waitkey() function of Python OpenCV allows users to display a window for given milliseconds or until any key is pressed.\n",
    "    #cv2.waitKey(2)\n",
    "\n",
    "\n",
    "    #cv2.imshow('video',curr_frame)\n",
    "    '''if (cv2.waitKey(1) & 0xFF) == ord('q'): # Hit `q` to exit\n",
    "        break'''\n",
    "\n",
    "video_write_obj.release()\n",
    "cv2.destroyAllWindows()"
   ]
  },
  {
   "cell_type": "code",
   "execution_count": null,
   "id": "7a001056",
   "metadata": {},
   "outputs": [],
   "source": []
  }
 ],
 "metadata": {
  "kernelspec": {
   "display_name": "Python 3 (ipykernel)",
   "language": "python",
   "name": "python3"
  },
  "language_info": {
   "codemirror_mode": {
    "name": "ipython",
    "version": 3
   },
   "file_extension": ".py",
   "mimetype": "text/x-python",
   "name": "python",
   "nbconvert_exporter": "python",
   "pygments_lexer": "ipython3",
   "version": "3.6.9"
  }
 },
 "nbformat": 4,
 "nbformat_minor": 5
}
